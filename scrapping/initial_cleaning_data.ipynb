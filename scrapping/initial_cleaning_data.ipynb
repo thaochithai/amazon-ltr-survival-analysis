{
 "cells": [
  {
   "cell_type": "code",
   "execution_count": 1,
   "id": "a71e2295",
   "metadata": {},
   "outputs": [
    {
     "name": "stderr",
     "output_type": "stream",
     "text": [
      "[nltk_data] Downloading package punkt to C:\\Users\\Pierre-\n",
      "[nltk_data]     François\\AppData\\Roaming\\nltk_data...\n",
      "[nltk_data]   Package punkt is already up-to-date!\n",
      "[nltk_data] Downloading package stopwords to C:\\Users\\Pierre-\n",
      "[nltk_data]     François\\AppData\\Roaming\\nltk_data...\n",
      "[nltk_data]   Package stopwords is already up-to-date!\n",
      "[nltk_data] Downloading package wordnet to C:\\Users\\Pierre-\n",
      "[nltk_data]     François\\AppData\\Roaming\\nltk_data...\n",
      "[nltk_data]   Package wordnet is already up-to-date!\n"
     ]
    },
    {
     "data": {
      "text/plain": [
       "True"
      ]
     },
     "execution_count": 1,
     "metadata": {},
     "output_type": "execute_result"
    }
   ],
   "source": [
    "import pandas as pd\n",
    "import re\n",
    "import numpy as np\n",
    "\n",
    "#TF/TF-IDF\n",
    "from sklearn.feature_extraction.text import TfidfVectorizer\n",
    "from sklearn.metrics.pairwise import cosine_similarity\n",
    "import nltk\n",
    "nltk.download('punkt')\n",
    "nltk.download('stopwords')\n",
    "from nltk.corpus import stopwords\n",
    "from nltk.tokenize import word_tokenize\n",
    "from nltk.stem import WordNetLemmatizer\n",
    "stop_words = set(stopwords.words('english'))\n",
    "nltk.download('wordnet')"
   ]
  },
  {
   "cell_type": "code",
   "execution_count": null,
   "id": "cb49d589",
   "metadata": {},
   "outputs": [],
   "source": [
    "# Load product page detail data\n",
    "#product_page_df = pd.read_csv(\"D:/KU Leuven/Master Thesis/Starting-over-2/Analysis/cleaning/clean/PRODUCT.csv\")\n",
    "product_page_df = pd.read_csv(\"C:/Users/Pierre-François/ChiChi's Research/ChiChi/product_page.csv\")\n",
    "# Load search result page data\n",
    "search_result_df = pd.read_csv(\"C:/Users/Pierre-François/ChiChi's Research/ChiChi/search_engine_result_page.csv\")"
   ]
  },
  {
   "cell_type": "code",
   "execution_count": 10,
   "id": "6b881218",
   "metadata": {},
   "outputs": [
    {
     "name": "stdout",
     "output_type": "stream",
     "text": [
      "<class 'pandas.core.frame.DataFrame'>\n",
      "RangeIndex: 32399 entries, 0 to 32398\n",
      "Data columns (total 10 columns):\n",
      " #   Column         Non-Null Count  Dtype \n",
      "---  ------         --------------  ----- \n",
      " 0   asin           32399 non-null  object\n",
      " 1   search_term    32399 non-null  object\n",
      " 2   scrape_date    32399 non-null  int64 \n",
      " 3   title          32399 non-null  object\n",
      " 4   brand          32217 non-null  object\n",
      " 5   categories     32399 non-null  object\n",
      " 6   bullet_points  27355 non-null  object\n",
      " 7   description    27868 non-null  object\n",
      " 8   bsr_1          25585 non-null  object\n",
      " 9   bsr_2          25548 non-null  object\n",
      "dtypes: int64(1), object(9)\n",
      "memory usage: 2.5+ MB\n",
      "<class 'pandas.core.frame.DataFrame'>\n",
      "RangeIndex: 1703716 entries, 0 to 1703715\n",
      "Data columns (total 15 columns):\n",
      " #   Column          Dtype  \n",
      "---  ------          -----  \n",
      " 0   asin            object \n",
      " 1   search_term     object \n",
      " 2   page_number     int64  \n",
      " 3   position        int64  \n",
      " 4   scrape_date     object \n",
      " 5   scrape_time     object \n",
      " 6   scrape_hour     int64  \n",
      " 7   title           object \n",
      " 8   price           float64\n",
      " 9   original_price  float64\n",
      " 10  sponsored       bool   \n",
      " 11  reviews_count   float64\n",
      " 12  rating          float64\n",
      " 13  sales_history   object \n",
      " 14  prime           bool   \n",
      "dtypes: bool(2), float64(4), int64(3), object(6)\n",
      "memory usage: 172.2+ MB\n"
     ]
    }
   ],
   "source": [
    "product_page_df.info()\n",
    "search_result_df.info()"
   ]
  },
  {
   "cell_type": "code",
   "execution_count": 8,
   "id": "a2257552",
   "metadata": {},
   "outputs": [
    {
     "name": "stdout",
     "output_type": "stream",
     "text": [
      "Created file: split_files\\data_2025-03-20.csv with 180 rows\n",
      "Created file: split_files\\data_2025-03-21.csv with 231788 rows\n",
      "Created file: split_files\\data_2025-03-22.csv with 251861 rows\n",
      "Created file: split_files\\data_2025-03-23.csv with 254258 rows\n",
      "Created file: split_files\\data_2025-03-24.csv with 248231 rows\n",
      "Created file: split_files\\data_2025-03-25.csv with 246877 rows\n",
      "Created file: split_files\\data_2025-03-26.csv with 228048 rows\n",
      "Created file: split_files\\data_2025-03-27.csv with 242473 rows\n"
     ]
    }
   ],
   "source": [
    "import pandas as pd\n",
    "import os\n",
    "from datetime import datetime\n",
    "\n",
    "# Load the CSV file\n",
    "def split_csv_by_date(input_file, date_column, output_folder='split_files'):\n",
    "    # Create output folder if it doesn't exist\n",
    "    if not os.path.exists(output_folder):\n",
    "        os.makedirs(output_folder)\n",
    "    \n",
    "    # Read the CSV file\n",
    "    df = pd.read_csv(input_file)\n",
    "    \n",
    "    # Convert date column to datetime if it's not already\n",
    "    if not pd.api.types.is_datetime64_any_dtype(df[date_column]):\n",
    "        df[date_column] = pd.to_datetime(df[date_column])\n",
    "    \n",
    "    # Group by date (year-month-day)\n",
    "    grouped = df.groupby(df[date_column].dt.strftime('%Y-%m-%d'))\n",
    "    \n",
    "    # Save each group to a separate file\n",
    "    for date, group in grouped:\n",
    "        output_file = os.path.join(output_folder, f'data_{date}.csv')\n",
    "        group.to_csv(output_file, index=False)\n",
    "        print(f'Created file: {output_file} with {len(group)} rows')\n",
    "\n",
    "# Example usage\n",
    "split_csv_by_date(\"C:/Users/Pierre-François/ChiChi's Research/ChiChi/search_engine_result_page.csv\", 'scrape_date')"
   ]
  },
  {
   "cell_type": "code",
   "execution_count": 4,
   "id": "75e7f743",
   "metadata": {},
   "outputs": [
    {
     "name": "stdout",
     "output_type": "stream",
     "text": [
      "(32399, 10)\n",
      "(1703716, 15)\n"
     ]
    }
   ],
   "source": [
    "product_page = product_page_df\n",
    "search_result = search_result_df\n",
    "print(product_page.shape)\n",
    "print(search_result_df.shape)"
   ]
  },
  {
   "cell_type": "code",
   "execution_count": 5,
   "id": "c8a28399",
   "metadata": {},
   "outputs": [
    {
     "name": "stdout",
     "output_type": "stream",
     "text": [
      "<class 'pandas.core.series.Series'>\n",
      "RangeIndex: 1703716 entries, 0 to 1703715\n",
      "Series name: scrape_date\n",
      "Non-Null Count    Dtype         \n",
      "--------------    -----         \n",
      "1703716 non-null  datetime64[ns]\n",
      "dtypes: datetime64[ns](1)\n",
      "memory usage: 13.0 MB\n",
      "None\n"
     ]
    }
   ],
   "source": [
    "#convert scrape date to date time format\n",
    "search_result['scrape_date'] = pd.to_datetime(search_result['scrape_date'])\n",
    "print(search_result['scrape_date'].info())\n",
    "\n",
    "# #remove rows where scrape_hour is 15 on scrape_date \n",
    "search_result['scrape_date'] = pd.to_datetime(search_result['scrape_date'])\n",
    "search_result = search_result[~((search_result['scrape_date']=='23/03/2025')&(search_result['scrape_hour']==15))]\n",
    "search_result = search_result[search_result['scrape_date'].dt.date != pd.to_datetime('2025-03-20').date()]"
   ]
  },
  {
   "cell_type": "code",
   "execution_count": 6,
   "id": "cd913850",
   "metadata": {},
   "outputs": [
    {
     "name": "stdout",
     "output_type": "stream",
     "text": [
      "12\n"
     ]
    }
   ],
   "source": [
    "remove_term = [\n",
    "    'roku', 'coffee','gift cards','pens','water','apple watch band','amazon gift card',\n",
    "    'queen bed frame','xbox gift card','kindle unlimited free books','tide pods','glue sticks'\n",
    "]\n",
    "print(len(remove_term))"
   ]
  },
  {
   "cell_type": "code",
   "execution_count": 7,
   "id": "56ad705a",
   "metadata": {},
   "outputs": [],
   "source": [
    "#filter out rows without the search term\n",
    "for term in remove_term:\n",
    "    product_page = product_page[~product_page['search_term'].str.contains(term, case=False,na=False)]\n",
    "for term in remove_term:\n",
    "    search_result = search_result[~search_result['search_term'].str.contains(term, case=False,na=False)]"
   ]
  },
  {
   "cell_type": "code",
   "execution_count": 8,
   "id": "def35bab",
   "metadata": {},
   "outputs": [
    {
     "name": "stdout",
     "output_type": "stream",
     "text": [
      "(1523052, 15)\n",
      "(29341, 10)\n"
     ]
    }
   ],
   "source": [
    "search_result = search_result.drop_duplicates(subset=['asin', 'search_term', 'page_number', 'position', 'scrape_date', 'scrape_hour'], keep='first')\n",
    "print(search_result.shape)\n",
    "product_page = product_page.drop_duplicates(subset=['asin', 'search_term'], keep='first')\n",
    "print(product_page.shape)"
   ]
  },
  {
   "cell_type": "code",
   "execution_count": 9,
   "id": "48c21361",
   "metadata": {},
   "outputs": [
    {
     "name": "stdout",
     "output_type": "stream",
     "text": [
      "         asin   search_term  page_number  position scrape_date scrape_time  \\\n",
      "0  B0D3HD4KTD  aa batteries            1         1  2025-03-23    16-06:03   \n",
      "1  B0CJ399BX5  aa batteries            1         2  2025-03-23    16-06:03   \n",
      "2  B00E3DVQFS  aa batteries            1         3  2025-03-23    16-06:03   \n",
      "3  B0CCR5QJYS  aa batteries            1         4  2025-03-23    16-06:03   \n",
      "4  B093LVB4P7  aa batteries            1         5  2025-03-23    16-06:03   \n",
      "\n",
      "   scrape_hour                                              title  price  \\\n",
      "0           16  Logitech G 309 LIGHTSPEED, Lightweight Wireles...  64.59   \n",
      "1           16  Midland PB42 2800MAH Lithium Battery for Alan ...  64.95   \n",
      "2           16  Duracell Rechargeable AA batteries (pack of 4 ...  11.19   \n",
      "3           16  Delyeepow 4 Pack USB-C AA AAA Lithium 1.5V 340...  36.99   \n",
      "4           16  Duracell Plus AA Batteries (Pack of 12) - Alka...   9.99   \n",
      "\n",
      "   original_price  ...  reviews_count  rating              sales_history  \\\n",
      "0           89.99  ...           67.0     4.5                        NaN   \n",
      "1             NaN  ...           18.0     4.0                        NaN   \n",
      "2           24.19  ...        93670.0     4.5  200+ bought in past month   \n",
      "3             NaN  ...          151.0     4.2                        NaN   \n",
      "4           20.59  ...       208267.0     4.8  300+ bought in past month   \n",
      "\n",
      "  prime       brand                                              bsr_1  \\\n",
      "0  True  Logitech G  75,121 in Electronics (See Top 100 in Electronics   \n",
      "1  True     Midland  346,664 in Electronics (See Top 100 in Electro...   \n",
      "2  True    Duracell     180 in Electronics (See Top 100 in Electronics   \n",
      "3  True   Delyeepow  13,057 in Electronics (See Top 100 in Electronics   \n",
      "4  True    Duracell      14 in Electronics (See Top 100 in Electronics   \n",
      "\n",
      "                                         bsr_2  \\\n",
      "0                                  662 in Mice   \n",
      "1    1,853 in Rechargeable Household Batteries   \n",
      "2        3 in Rechargeable Household Batteries   \n",
      "3      116 in Rechargeable Household Batteries   \n",
      "4          2 in Disposable Household Batteries   \n",
      "\n",
      "                                          categories  \\\n",
      "0  Electronics|Computers, Components & Accessorie...   \n",
      "1  Electronics|Household Batteries, Chargers & Ac...   \n",
      "2  Electronics|Household Batteries, Chargers & Ac...   \n",
      "3  Electronics|Household Batteries, Chargers & Ac...   \n",
      "4  Electronics|Household Batteries, Chargers & Ac...   \n",
      "\n",
      "                                       bullet_points  \\\n",
      "0  Maximum Gaming: This wireless gaming mouse swi...   \n",
      "1  Pb 42 Lthium|Battery Pack|2800mAh|Compatible w...   \n",
      "2  OUR LONGEST LASTING RECHARGEABLE BATTERIES BY ...   \n",
      "3  You will receive: 4 x AA 3400mWh USB 1.5V Lith...   \n",
      "4  IDEAL PERFORMANCE: Thanks to an extended lifes...   \n",
      "\n",
      "                                         description  \n",
      "0  The Logitech G309 LIGHTSPEED Wireless Gaming M...  \n",
      "1  Midland PB42 2800MAH Lithium Battery for Alan ...  \n",
      "2  Thanks to its long-lasting batteries, Duracell...  \n",
      "3                   USB Rechargeable Lithium Battery  \n",
      "4  Do you need your electronic devices on a daily...  \n",
      "\n",
      "[5 rows x 21 columns]\n"
     ]
    }
   ],
   "source": [
    "merged_data = pd.merge(\n",
    "    search_result,\n",
    "    product_page[['asin','brand','bsr_1','bsr_2','categories','bullet_points','description']],\n",
    "    on='asin',     \n",
    "    how='left', ) \n",
    "print(merged_data.head(5))"
   ]
  },
  {
   "cell_type": "code",
   "execution_count": 10,
   "id": "2fafe823",
   "metadata": {},
   "outputs": [],
   "source": [
    "merged_data = merged_data[~merged_data['categories'].isnull()]"
   ]
  },
  {
   "cell_type": "code",
   "execution_count": 11,
   "id": "101f772b",
   "metadata": {},
   "outputs": [
    {
     "name": "stdout",
     "output_type": "stream",
     "text": [
      "(1546956, 21)\n",
      "Shape before merge: (1523052, 15)\n",
      "Shape after merge: (1546956, 21)\n",
      "         asin   search_term  page_number  position scrape_date scrape_time  \\\n",
      "0  B0D3HD4KTD  aa batteries            1         1  2025-03-23    16-06:03   \n",
      "1  B0CJ399BX5  aa batteries            1         2  2025-03-23    16-06:03   \n",
      "2  B00E3DVQFS  aa batteries            1         3  2025-03-23    16-06:03   \n",
      "3  B0CCR5QJYS  aa batteries            1         4  2025-03-23    16-06:03   \n",
      "4  B093LVB4P7  aa batteries            1         5  2025-03-23    16-06:03   \n",
      "\n",
      "   scrape_hour                                              title  price  \\\n",
      "0           16  Logitech G 309 LIGHTSPEED, Lightweight Wireles...  64.59   \n",
      "1           16  Midland PB42 2800MAH Lithium Battery for Alan ...  64.95   \n",
      "2           16  Duracell Rechargeable AA batteries (pack of 4 ...  11.19   \n",
      "3           16  Delyeepow 4 Pack USB-C AA AAA Lithium 1.5V 340...  36.99   \n",
      "4           16  Duracell Plus AA Batteries (Pack of 12) - Alka...   9.99   \n",
      "\n",
      "   original_price  ...  reviews_count  rating              sales_history  \\\n",
      "0           89.99  ...           67.0     4.5                        NaN   \n",
      "1             NaN  ...           18.0     4.0                        NaN   \n",
      "2           24.19  ...        93670.0     4.5  200+ bought in past month   \n",
      "3             NaN  ...          151.0     4.2                        NaN   \n",
      "4           20.59  ...       208267.0     4.8  300+ bought in past month   \n",
      "\n",
      "  prime       brand                                              bsr_1  \\\n",
      "0  True  Logitech G  75,121 in Electronics (See Top 100 in Electronics   \n",
      "1  True     Midland  346,664 in Electronics (See Top 100 in Electro...   \n",
      "2  True    Duracell     180 in Electronics (See Top 100 in Electronics   \n",
      "3  True   Delyeepow  13,057 in Electronics (See Top 100 in Electronics   \n",
      "4  True    Duracell      14 in Electronics (See Top 100 in Electronics   \n",
      "\n",
      "                                         bsr_2  \\\n",
      "0                                  662 in Mice   \n",
      "1    1,853 in Rechargeable Household Batteries   \n",
      "2        3 in Rechargeable Household Batteries   \n",
      "3      116 in Rechargeable Household Batteries   \n",
      "4          2 in Disposable Household Batteries   \n",
      "\n",
      "                                          categories  \\\n",
      "0  Electronics|Computers, Components & Accessorie...   \n",
      "1  Electronics|Household Batteries, Chargers & Ac...   \n",
      "2  Electronics|Household Batteries, Chargers & Ac...   \n",
      "3  Electronics|Household Batteries, Chargers & Ac...   \n",
      "4  Electronics|Household Batteries, Chargers & Ac...   \n",
      "\n",
      "                                       bullet_points  \\\n",
      "0  Maximum Gaming: This wireless gaming mouse swi...   \n",
      "1  Pb 42 Lthium|Battery Pack|2800mAh|Compatible w...   \n",
      "2  OUR LONGEST LASTING RECHARGEABLE BATTERIES BY ...   \n",
      "3  You will receive: 4 x AA 3400mWh USB 1.5V Lith...   \n",
      "4  IDEAL PERFORMANCE: Thanks to an extended lifes...   \n",
      "\n",
      "                                         description  \n",
      "0  The Logitech G309 LIGHTSPEED Wireless Gaming M...  \n",
      "1  Midland PB42 2800MAH Lithium Battery for Alan ...  \n",
      "2  Thanks to its long-lasting batteries, Duracell...  \n",
      "3                   USB Rechargeable Lithium Battery  \n",
      "4  Do you need your electronic devices on a daily...  \n",
      "\n",
      "[5 rows x 21 columns]\n"
     ]
    }
   ],
   "source": [
    "print(merged_data.shape)\n",
    "print(\"Shape before merge:\", search_result.shape)\n",
    "print(\"Shape after merge:\", merged_data.shape)\n",
    "print(merged_data.head(5))"
   ]
  },
  {
   "cell_type": "code",
   "execution_count": 12,
   "id": "423e4a2c",
   "metadata": {},
   "outputs": [
    {
     "name": "stdout",
     "output_type": "stream",
     "text": [
      "          search_term           main_cat                 sub_cat\n",
      "0        aa batteries        Electronics             Accessories\n",
      "1        aa batteries        Electronics  Rechargeable Batteries\n",
      "2        aa batteries        Electronics  Rechargeable Batteries\n",
      "3        aa batteries        Electronics  Rechargeable Batteries\n",
      "4        aa batteries        Electronics    Disposable Batteries\n",
      "...               ...                ...                     ...\n",
      "1562871      yoga mat  Sports & Outdoors                    Yoga\n",
      "1562872      yoga mat  Sports & Outdoors                    Yoga\n",
      "1562873      yoga mat  Sports & Outdoors                    Yoga\n",
      "1562874      yoga mat  Sports & Outdoors                    Yoga\n",
      "1562875      yoga mat  Sports & Outdoors             Accessories\n",
      "\n",
      "[1546956 rows x 3 columns]\n"
     ]
    }
   ],
   "source": [
    "#get the product cateory\n",
    "merged_data['main_cat'] = merged_data['categories'].apply(lambda x: x.split(\"|\")[0] if pd.notnull(x) else x)\n",
    "merged_data['sub_cat'] = merged_data['categories'].apply(\n",
    "    lambda x: x.split(\"|\")[2] if pd.notnull(x) and len(x.split(\"|\")) > 2 else x)\n",
    "print(merged_data[['search_term','main_cat','sub_cat']])"
   ]
  },
  {
   "cell_type": "code",
   "execution_count": 13,
   "id": "ad357d30",
   "metadata": {},
   "outputs": [
    {
     "name": "stdout",
     "output_type": "stream",
     "text": [
      "               asin  main_cat_rank\n",
      "0        B0D3HD4KTD          75121\n",
      "1        B0CJ399BX5         346664\n",
      "2        B00E3DVQFS            180\n",
      "3        B0CCR5QJYS          13057\n",
      "4        B093LVB4P7             14\n",
      "...             ...            ...\n",
      "1562871  B0B5195NZV        9999999\n",
      "1562872  B08JV4HF3N        9999999\n",
      "1562873  B0CD9W8WMX         164881\n",
      "1562874  B0DLL7NF5S        9999999\n",
      "1562875  B0CJ8SFMT8           1596\n",
      "\n",
      "[1546956 rows x 2 columns]\n",
      "               asin  sub_cat_rank\n",
      "0        B0D3HD4KTD           662\n",
      "1        B0CJ399BX5          1853\n",
      "2        B00E3DVQFS             3\n",
      "3        B0CCR5QJYS           116\n",
      "4        B093LVB4P7             2\n",
      "...             ...           ...\n",
      "1562871  B0B5195NZV       9999999\n",
      "1562872  B08JV4HF3N       9999999\n",
      "1562873  B0CD9W8WMX           925\n",
      "1562874  B0DLL7NF5S       9999999\n",
      "1562875  B0CJ8SFMT8             3\n",
      "\n",
      "[1546956 rows x 2 columns]\n"
     ]
    }
   ],
   "source": [
    "#Transform bsr to extract main_cat_rank and sub_cat_rank\n",
    "merged_data['bsr_1'] = merged_data['bsr_1'].str.replace(',', '')\n",
    "merged_data['bsr_2'] = merged_data['bsr_2'].str.replace(',', '')\n",
    "merged_data['main_cat_rank'] = merged_data['bsr_1'].str.extract(r'(\\d+)')\n",
    "merged_data['main_cat_rank'] = merged_data['main_cat_rank'].fillna(9999999).astype(int)\n",
    "merged_data['sub_cat_rank'] = merged_data['bsr_2'].str.extract(r'(\\d+)')\n",
    "merged_data['sub_cat_rank'] = merged_data['sub_cat_rank'].fillna(9999999).astype(int)\n",
    "print(merged_data[['asin','main_cat_rank']])\n",
    "print(merged_data[['asin','sub_cat_rank']])\n"
   ]
  },
  {
   "cell_type": "code",
   "execution_count": 14,
   "id": "19fa49b2",
   "metadata": {},
   "outputs": [],
   "source": [
    "#transform past_month_sale to categorical bucket\n",
    "def bucket_sales(text):\n",
    "    if pd.isna(text):\n",
    "        return \"<50\"\n",
    "    num = re.findall(r'(\\d+)', text)\n",
    "    if not num:\n",
    "        return np.nan\n",
    "    num = int(num[0])\n",
    "    if num < 50:\n",
    "        return \"<50\"\n",
    "    elif num < 100:\n",
    "        return \"50-100\"\n",
    "    elif num < 200:\n",
    "        return \"100-200\"\n",
    "    elif num < 300:\n",
    "        return \"200-300\"\n",
    "    elif num < 500:\n",
    "        return \"300-500\"\n",
    "    elif num < 1000:\n",
    "        return \"500-1000\"\n",
    "    else:\n",
    "        return \">1000\"\n",
    "merged_data['sales_bucket'] = merged_data['sales_history'].apply(bucket_sales)"
   ]
  },
  {
   "cell_type": "code",
   "execution_count": 15,
   "id": "94788c80",
   "metadata": {},
   "outputs": [
    {
     "name": "stdout",
     "output_type": "stream",
     "text": [
      "0          0\n",
      "1          0\n",
      "2          1\n",
      "3          0\n",
      "4          1\n",
      "          ..\n",
      "1562871    0\n",
      "1562872    0\n",
      "1562873    0\n",
      "1562874    0\n",
      "1562875    0\n",
      "Name: sales_badge, Length: 1546956, dtype: int64\n",
      "0          1\n",
      "1          0\n",
      "2          1\n",
      "3          0\n",
      "4          1\n",
      "          ..\n",
      "1562871    0\n",
      "1562872    0\n",
      "1562873    0\n",
      "1562874    0\n",
      "1562875    0\n",
      "Name: discount, Length: 1546956, dtype: int64\n"
     ]
    }
   ],
   "source": [
    "merged_data['sales_badge'] = np.where(merged_data['sales_history'].isnull(), 0, 1)\n",
    "merged_data['discount'] = np.where(merged_data['original_price'].isnull(), 0, 1)\n",
    "print(merged_data['sales_badge'])\n",
    "print(merged_data['discount'])"
   ]
  },
  {
   "cell_type": "code",
   "execution_count": 16,
   "id": "45091780",
   "metadata": {},
   "outputs": [
    {
     "name": "stdout",
     "output_type": "stream",
     "text": [
      "         reviews_count  rating\n",
      "0                   67     4.5\n",
      "1                   18     4.0\n",
      "2                93670     4.5\n",
      "3                  151     4.2\n",
      "4               208267     4.8\n",
      "...                ...     ...\n",
      "1562871            179     4.3\n",
      "1562872           3549     4.4\n",
      "1562873             63     4.5\n",
      "1562874              2     5.0\n",
      "1562875             85     4.7\n",
      "\n",
      "[1546956 rows x 2 columns]\n"
     ]
    }
   ],
   "source": [
    "merged_data['reviews_count']=merged_data['reviews_count'].fillna(0)\n",
    "merged_data['rating']=merged_data['rating'].fillna(0)\n",
    "#clean the row where there is review but no rating\n",
    "merged_data.loc[merged_data['rating'].isnull(), 'reviews_count'] = np.nan\n",
    "merged_data['reviews_count']=merged_data['reviews_count'].astype(int)\n",
    "print(merged_data[['reviews_count','rating']])"
   ]
  },
  {
   "cell_type": "code",
   "execution_count": 17,
   "id": "3b01e3cf",
   "metadata": {},
   "outputs": [],
   "source": [
    "merged_data = merged_data[~merged_data['price'].isnull()]"
   ]
  },
  {
   "cell_type": "code",
   "execution_count": 18,
   "id": "8509af1f",
   "metadata": {},
   "outputs": [],
   "source": [
    "#log transformation\n",
    "merged_data['log_sub_rank'] = np.log1p(merged_data['sub_cat_rank'])\n",
    "merged_data['log_main_rank'] = np.log1p(merged_data['main_cat_rank'])\n",
    "merged_data['log_price'] = np.log1p(merged_data['price'].fillna(0))\n",
    "merged_data['log_review'] = np.log1p(merged_data['reviews_count'])"
   ]
  },
  {
   "cell_type": "code",
   "execution_count": 21,
   "id": "f3ee5ed7",
   "metadata": {},
   "outputs": [],
   "source": [
    "merged_data['popularity'] = (\n",
    "    (merged_data['sub_cat_rank']<= merged_data['sub_cat_rank'].quantile(0.20)) &\n",
    "    (merged_data['main_cat_rank'] <= merged_data['main_cat_rank'].quantile(0.20)) &\n",
    "    (merged_data['rating'] <= merged_data['main_cat_rank'].quantile(0.20)) &\n",
    "    (merged_data['sales_history'].fillna(0) != 0) &\n",
    "    (merged_data['reviews_count'] >= merged_data['reviews_count'].quantile(0.80))\n",
    ")"
   ]
  },
  {
   "cell_type": "code",
   "execution_count": 22,
   "id": "124bb19d",
   "metadata": {},
   "outputs": [
    {
     "name": "stderr",
     "output_type": "stream",
     "text": [
      "C:\\Users\\Pierre-François\\AppData\\Local\\Temp\\ipykernel_21404\\529018329.py:10: FutureWarning: Downcasting object dtype arrays on .fillna, .ffill, .bfill is deprecated and will change in a future version. Call result.infer_objects(copy=False) instead. To opt-in to the future behavior, set `pd.set_option('future.no_silent_downcasting', True)`\n",
      "  (group['sales_history'].fillna(0) != 0) &\n",
      "C:\\Users\\Pierre-François\\AppData\\Local\\Temp\\ipykernel_21404\\529018329.py:10: FutureWarning: Downcasting object dtype arrays on .fillna, .ffill, .bfill is deprecated and will change in a future version. Call result.infer_objects(copy=False) instead. To opt-in to the future behavior, set `pd.set_option('future.no_silent_downcasting', True)`\n",
      "  (group['sales_history'].fillna(0) != 0) &\n",
      "C:\\Users\\Pierre-François\\AppData\\Local\\Temp\\ipykernel_21404\\529018329.py:10: FutureWarning: Downcasting object dtype arrays on .fillna, .ffill, .bfill is deprecated and will change in a future version. Call result.infer_objects(copy=False) instead. To opt-in to the future behavior, set `pd.set_option('future.no_silent_downcasting', True)`\n",
      "  (group['sales_history'].fillna(0) != 0) &\n",
      "C:\\Users\\Pierre-François\\AppData\\Local\\Temp\\ipykernel_21404\\529018329.py:10: FutureWarning: Downcasting object dtype arrays on .fillna, .ffill, .bfill is deprecated and will change in a future version. Call result.infer_objects(copy=False) instead. To opt-in to the future behavior, set `pd.set_option('future.no_silent_downcasting', True)`\n",
      "  (group['sales_history'].fillna(0) != 0) &\n",
      "C:\\Users\\Pierre-François\\AppData\\Local\\Temp\\ipykernel_21404\\529018329.py:10: FutureWarning: Downcasting object dtype arrays on .fillna, .ffill, .bfill is deprecated and will change in a future version. Call result.infer_objects(copy=False) instead. To opt-in to the future behavior, set `pd.set_option('future.no_silent_downcasting', True)`\n",
      "  (group['sales_history'].fillna(0) != 0) &\n",
      "C:\\Users\\Pierre-François\\AppData\\Local\\Temp\\ipykernel_21404\\529018329.py:10: FutureWarning: Downcasting object dtype arrays on .fillna, .ffill, .bfill is deprecated and will change in a future version. Call result.infer_objects(copy=False) instead. To opt-in to the future behavior, set `pd.set_option('future.no_silent_downcasting', True)`\n",
      "  (group['sales_history'].fillna(0) != 0) &\n",
      "C:\\Users\\Pierre-François\\AppData\\Local\\Temp\\ipykernel_21404\\529018329.py:10: FutureWarning: Downcasting object dtype arrays on .fillna, .ffill, .bfill is deprecated and will change in a future version. Call result.infer_objects(copy=False) instead. To opt-in to the future behavior, set `pd.set_option('future.no_silent_downcasting', True)`\n",
      "  (group['sales_history'].fillna(0) != 0) &\n",
      "C:\\Users\\Pierre-François\\AppData\\Local\\Temp\\ipykernel_21404\\529018329.py:10: FutureWarning: Downcasting object dtype arrays on .fillna, .ffill, .bfill is deprecated and will change in a future version. Call result.infer_objects(copy=False) instead. To opt-in to the future behavior, set `pd.set_option('future.no_silent_downcasting', True)`\n",
      "  (group['sales_history'].fillna(0) != 0) &\n",
      "C:\\Users\\Pierre-François\\AppData\\Local\\Temp\\ipykernel_21404\\529018329.py:10: FutureWarning: Downcasting object dtype arrays on .fillna, .ffill, .bfill is deprecated and will change in a future version. Call result.infer_objects(copy=False) instead. To opt-in to the future behavior, set `pd.set_option('future.no_silent_downcasting', True)`\n",
      "  (group['sales_history'].fillna(0) != 0) &\n",
      "C:\\Users\\Pierre-François\\AppData\\Local\\Temp\\ipykernel_21404\\529018329.py:2: DeprecationWarning: DataFrameGroupBy.apply operated on the grouping columns. This behavior is deprecated, and in a future version of pandas the grouping columns will be excluded from the operation. Either pass `include_groups=False` to exclude the groupings or explicitly select the grouping columns after groupby to silence this warning.\n",
      "  merged_data['popularity_1'] = merged_data.groupby('search_term').apply(\n"
     ]
    }
   ],
   "source": [
    "# Assuming you have a 'query_group' column that identifies each search query group\n",
    "merged_data['popularity_1'] = merged_data.groupby('search_term').apply(\n",
    "    lambda group: (\n",
    "        # Lower rank = better (top 20% within this query group)\n",
    "        (group['sub_cat_rank'] <= group['sub_cat_rank'].quantile(0.20)) &\n",
    "        (group['main_cat_rank'] <= group['main_cat_rank'].quantile(0.20)) &\n",
    "        # Higher rating = better (top 20% within this query group)\n",
    "        (group['rating'] >= group['rating'].quantile(0.80)) &\n",
    "        # Has sales history\n",
    "        (group['sales_history'].fillna(0) != 0) &\n",
    "        # Higher review count = better (top 20% within this query group)\n",
    "        (group['reviews_count'] >= group['reviews_count'].quantile(0.80))\n",
    "    )\n",
    ").reset_index(level=0, drop=True)"
   ]
  },
  {
   "cell_type": "code",
   "execution_count": 23,
   "id": "8cc76fb2",
   "metadata": {},
   "outputs": [
    {
     "name": "stdout",
     "output_type": "stream",
     "text": [
      "0          False\n",
      "1          False\n",
      "2          False\n",
      "3          False\n",
      "4           True\n",
      "           ...  \n",
      "1562871    False\n",
      "1562872    False\n",
      "1562873    False\n",
      "1562874    False\n",
      "1562875    False\n",
      "Name: popularity_1, Length: 1516978, dtype: bool\n"
     ]
    }
   ],
   "source": [
    "print(merged_data['popularity_1'])"
   ]
  },
  {
   "cell_type": "code",
   "execution_count": 24,
   "id": "5b39f58b",
   "metadata": {},
   "outputs": [],
   "source": [
    "#calculate discount percentage and bucket it\n",
    "def discount_group(row):\n",
    "    if pd.isna(row['original_price']) or row['original_price'] == 0:\n",
    "        return \"no_discount\"\n",
    "    discount = (row['original_price'] - row['price']) / row['original_price'] * 100\n",
    "    if discount == 0:\n",
    "        return \"no_discount\"\n",
    "    elif discount <= 10:\n",
    "        return \"0-10%\"\n",
    "    elif discount <= 30:\n",
    "        return \"10-30%\"\n",
    "    elif discount <= 40:\n",
    "        return \"30-40%\"\n",
    "    elif discount <= 50:\n",
    "        return \"40-50%\"\n",
    "    else:\n",
    "        return \">50%\"\n",
    "merged_data['discount_group'] = merged_data.apply(discount_group, axis=1)"
   ]
  },
  {
   "cell_type": "code",
   "execution_count": 25,
   "id": "5a082e41",
   "metadata": {},
   "outputs": [],
   "source": [
    "merged_data['group_id'] = merged_data['search_term'].astype(str) + '_' + merged_data['scrape_date'].astype(str) + '_' + merged_data['scrape_hour'].astype(str)\n",
    "merged_data['group_id'] = merged_data['group_id'].astype('category').cat.codes\n",
    "merged_data['price_competitiveness'] = merged_data.groupby('group_id')['price'].transform(\n",
    "    lambda x: 1 - (x / x.max()).clip(0, 1))"
   ]
  },
  {
   "cell_type": "code",
   "execution_count": 26,
   "id": "e54e0fab",
   "metadata": {},
   "outputs": [],
   "source": [
    "merged_data['continuous_rank'] = (merged_data['page_number'] - 1) * 60 + merged_data['position']"
   ]
  },
  {
   "cell_type": "code",
   "execution_count": 27,
   "id": "6514beea",
   "metadata": {},
   "outputs": [
    {
     "name": "stdout",
     "output_type": "stream",
     "text": [
      "(1477644, 38)\n"
     ]
    }
   ],
   "source": [
    "merged_data = merged_data.drop_duplicates(subset=['asin', 'search_term', 'page_number', 'position', 'scrape_date', 'scrape_hour'], keep='first')\n",
    "print(merged_data.shape)"
   ]
  },
  {
   "cell_type": "code",
   "execution_count": 28,
   "id": "1111f44b",
   "metadata": {},
   "outputs": [
    {
     "name": "stdout",
     "output_type": "stream",
     "text": [
      "asin                           0\n",
      "search_term                    0\n",
      "page_number                    0\n",
      "position                       0\n",
      "scrape_date                    0\n",
      "scrape_time                    0\n",
      "scrape_hour                    0\n",
      "title                          0\n",
      "price                          0\n",
      "original_price           1131790\n",
      "sponsored                      0\n",
      "reviews_count                  0\n",
      "rating                         0\n",
      "sales_history            1381661\n",
      "prime                          0\n",
      "brand                       8280\n",
      "bsr_1                     202702\n",
      "bsr_2                     203510\n",
      "categories                     0\n",
      "bullet_points             132751\n",
      "description               177596\n",
      "main_cat                       0\n",
      "sub_cat                        0\n",
      "main_cat_rank                  0\n",
      "sub_cat_rank                   0\n",
      "sales_bucket                   0\n",
      "sales_badge                    0\n",
      "discount                       0\n",
      "log_sub_rank                   0\n",
      "log_main_rank                  0\n",
      "log_price                      0\n",
      "log_review                     0\n",
      "popularity                     0\n",
      "popularity_1                   0\n",
      "discount_group                 0\n",
      "group_id                       0\n",
      "price_competitiveness          0\n",
      "continuous_rank                0\n",
      "dtype: int64\n",
      "<class 'pandas.core.frame.DataFrame'>\n",
      "Index: 1477644 entries, 0 to 1562875\n",
      "Data columns (total 38 columns):\n",
      " #   Column                 Non-Null Count    Dtype         \n",
      "---  ------                 --------------    -----         \n",
      " 0   asin                   1477644 non-null  object        \n",
      " 1   search_term            1477644 non-null  object        \n",
      " 2   page_number            1477644 non-null  int64         \n",
      " 3   position               1477644 non-null  int64         \n",
      " 4   scrape_date            1477644 non-null  datetime64[ns]\n",
      " 5   scrape_time            1477644 non-null  object        \n",
      " 6   scrape_hour            1477644 non-null  int64         \n",
      " 7   title                  1477644 non-null  object        \n",
      " 8   price                  1477644 non-null  float64       \n",
      " 9   original_price         345854 non-null   float64       \n",
      " 10  sponsored              1477644 non-null  bool          \n",
      " 11  reviews_count          1477644 non-null  int64         \n",
      " 12  rating                 1477644 non-null  float64       \n",
      " 13  sales_history          95983 non-null    object        \n",
      " 14  prime                  1477644 non-null  bool          \n",
      " 15  brand                  1469364 non-null  object        \n",
      " 16  bsr_1                  1274942 non-null  object        \n",
      " 17  bsr_2                  1274134 non-null  object        \n",
      " 18  categories             1477644 non-null  object        \n",
      " 19  bullet_points          1344893 non-null  object        \n",
      " 20  description            1300048 non-null  object        \n",
      " 21  main_cat               1477644 non-null  object        \n",
      " 22  sub_cat                1477644 non-null  object        \n",
      " 23  main_cat_rank          1477644 non-null  int64         \n",
      " 24  sub_cat_rank           1477644 non-null  int64         \n",
      " 25  sales_bucket           1477644 non-null  object        \n",
      " 26  sales_badge            1477644 non-null  int64         \n",
      " 27  discount               1477644 non-null  int64         \n",
      " 28  log_sub_rank           1477644 non-null  float64       \n",
      " 29  log_main_rank          1477644 non-null  float64       \n",
      " 30  log_price              1477644 non-null  float64       \n",
      " 31  log_review             1477644 non-null  float64       \n",
      " 32  popularity             1477644 non-null  bool          \n",
      " 33  popularity_1           1477644 non-null  bool          \n",
      " 34  discount_group         1477644 non-null  object        \n",
      " 35  group_id               1477644 non-null  int16         \n",
      " 36  price_competitiveness  1477644 non-null  float64       \n",
      " 37  continuous_rank        1477644 non-null  int64         \n",
      "dtypes: bool(4), datetime64[ns](1), float64(8), int16(1), int64(9), object(15)\n",
      "memory usage: 391.8+ MB\n",
      "None\n"
     ]
    }
   ],
   "source": [
    "print(merged_data.isnull().sum())\n",
    "print(merged_data.info())"
   ]
  },
  {
   "cell_type": "code",
   "execution_count": 194,
   "id": "bb276ac1",
   "metadata": {},
   "outputs": [],
   "source": [
    "# Group by scrape_date and save each group as a separate CSV\n",
    "#for date, group in merged_data.groupby('scrape_date'):\n",
    "    #date_str = pd.to_datetime(date).strftime('%Y-%m-%d')  # Format the date nicely\n",
    "    #group.to_csv(f'D:/KU Leuven/Master Thesis/Starting-over-2/Analysis/cleaning/clean_{date_str}.csv', index=False)"
   ]
  },
  {
   "cell_type": "code",
   "execution_count": 29,
   "id": "bae4a605",
   "metadata": {},
   "outputs": [
    {
     "name": "stdout",
     "output_type": "stream",
     "text": [
      "scrape_date\n",
      "2025-03-21    200895\n",
      "2025-03-22    218328\n",
      "2025-03-23    220936\n",
      "2025-03-24    215740\n",
      "2025-03-25    215211\n",
      "2025-03-26    197561\n",
      "2025-03-27    208973\n",
      "dtype: int64\n"
     ]
    }
   ],
   "source": [
    "daily_counts = merged_data.groupby(merged_data['scrape_date'].dt.date).size()\n",
    "print(daily_counts)"
   ]
  },
  {
   "cell_type": "code",
   "execution_count": 30,
   "id": "508bf746",
   "metadata": {},
   "outputs": [
    {
     "name": "stdout",
     "output_type": "stream",
     "text": [
      "(1477644, 38)\n",
      "(1194473, 38)\n"
     ]
    }
   ],
   "source": [
    "all_data = merged_data\n",
    "sponsored = merged_data[merged_data['sponsored']==False]\n",
    "print(all_data.shape)\n",
    "print(sponsored.shape)\n",
    "#sponsored_filtered = merged_data[merged_data['sponsored']==True]"
   ]
  },
  {
   "cell_type": "code",
   "execution_count": 31,
   "id": "835f2502",
   "metadata": {},
   "outputs": [],
   "source": [
    "all_data.to_csv(\"C:/Users/Pierre-François/ChiChi's Research/ChiChi/test_all.csv\")\n",
    "sponsored.to_csv(\"C:/Users/Pierre-François/ChiChi's Research/ChiChi/full_organic.csv\")"
   ]
  },
  {
   "cell_type": "code",
   "execution_count": 152,
   "id": "34c47589",
   "metadata": {},
   "outputs": [
    {
     "name": "stdout",
     "output_type": "stream",
     "text": [
      "(1516978, 26)\n"
     ]
    }
   ],
   "source": [
    "print(all_data.shape)"
   ]
  }
 ],
 "metadata": {
  "kernelspec": {
   "display_name": "Python 3",
   "language": "python",
   "name": "python3"
  },
  "language_info": {
   "codemirror_mode": {
    "name": "ipython",
    "version": 3
   },
   "file_extension": ".py",
   "mimetype": "text/x-python",
   "name": "python",
   "nbconvert_exporter": "python",
   "pygments_lexer": "ipython3",
   "version": "3.11.6"
  }
 },
 "nbformat": 4,
 "nbformat_minor": 5
}
